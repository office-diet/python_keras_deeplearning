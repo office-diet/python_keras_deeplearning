{
 "cells": [
  {
   "cell_type": "code",
   "execution_count": 25,
   "metadata": {},
   "outputs": [
    {
     "name": "stdout",
     "output_type": "stream",
     "text": [
      "8982\n",
      "2246\n"
     ]
    }
   ],
   "source": [
    "from tensorflow.keras.datasets import reuters\n",
    "(train_data, train_labels), (test_data, test_labels) = reuters.load_data(num_words=10000)\n",
    "print(len(train_data))\n",
    "print(len(test_data))"
   ]
  },
  {
   "cell_type": "code",
   "execution_count": 26,
   "metadata": {},
   "outputs": [
    {
     "data": {
      "text/plain": [
       "[1,\n",
       " 245,\n",
       " 273,\n",
       " 207,\n",
       " 156,\n",
       " 53,\n",
       " 74,\n",
       " 160,\n",
       " 26,\n",
       " 14,\n",
       " 46,\n",
       " 296,\n",
       " 26,\n",
       " 39,\n",
       " 74,\n",
       " 2979,\n",
       " 3554,\n",
       " 14,\n",
       " 46,\n",
       " 4689,\n",
       " 4329,\n",
       " 86,\n",
       " 61,\n",
       " 3499,\n",
       " 4795,\n",
       " 14,\n",
       " 61,\n",
       " 451,\n",
       " 4329,\n",
       " 17,\n",
       " 12]"
      ]
     },
     "execution_count": 26,
     "metadata": {},
     "output_type": "execute_result"
    }
   ],
   "source": [
    "train_data[10]"
   ]
  },
  {
   "cell_type": "code",
   "execution_count": 27,
   "metadata": {},
   "outputs": [],
   "source": [
    "word_index = reuters.get_word_index()\n",
    "index_word = dict([(value, key) for (key, value) in word_index.items()])"
   ]
  },
  {
   "cell_type": "code",
   "execution_count": 28,
   "metadata": {},
   "outputs": [
    {
     "data": {
      "text/plain": [
       "'period ended december 31 shr profit 11 cts vs loss 24 cts net profit 224 271 vs loss 511 349 revs 7 258 688 vs 7 200 349 reuter 3'"
      ]
     },
     "execution_count": 28,
     "metadata": {},
     "output_type": "execute_result"
    }
   ],
   "source": [
    "texts = \" \".join([index_word.get(index - 3, \"?\") for index in train_data[10][1:]])\n",
    "texts"
   ]
  },
  {
   "cell_type": "code",
   "execution_count": 29,
   "metadata": {},
   "outputs": [
    {
     "data": {
      "text/plain": [
       "array([ 3,  4,  3, ..., 25,  3, 25], dtype=int64)"
      ]
     },
     "execution_count": 29,
     "metadata": {},
     "output_type": "execute_result"
    }
   ],
   "source": [
    "train_labels"
   ]
  },
  {
   "cell_type": "code",
   "execution_count": 33,
   "metadata": {},
   "outputs": [],
   "source": [
    "import numpy as np\n",
    "\n",
    "def vectorize_sequences(sequences, dimension=10000):\n",
    "    results = np.zeros((len(sequences), dimension))\n",
    "    for i, sequence in enumerate(sequences):\n",
    "        results[i, sequence] = 1.\n",
    "    return results\n",
    "\n",
    "x_train = vectorize_sequences(train_data)\n",
    "x_test = vectorize_sequences(test_data)"
   ]
  },
  {
   "cell_type": "code",
   "execution_count": 37,
   "metadata": {},
   "outputs": [],
   "source": [
    "def to_one_hot(labels, dimension=46):\n",
    "    results = np.zeros((len(labels), dimension))\n",
    "    for i, label in enumerate(labels):\n",
    "        results[i, label] = 1.\n",
    "    return results\n",
    "y_train = to_one_hot(train_labels)\n",
    "y_test = to_one_hot(test_labels)"
   ]
  },
  {
   "cell_type": "code",
   "execution_count": 40,
   "metadata": {},
   "outputs": [],
   "source": [
    "from tensorflow.keras.utils import to_categorical\n",
    "one_hot_train_labels = to_categorical(train_labels)\n",
    "one_hot_test_labels = to_categorical(test_labels)"
   ]
  },
  {
   "cell_type": "code",
   "execution_count": 49,
   "metadata": {},
   "outputs": [],
   "source": [
    "from tensorflow.keras.models import Sequential\n",
    "from tensorflow.keras.layers import Dense\n",
    "import tensorflow as tf\n",
    "with tf.device(\"/cpu:0\"):\n",
    "    model = Sequential()\n",
    "    model.add(Dense(64, activation=\"relu\", input_shape=(10000, )))\n",
    "    model.add(Dense(64, activation=\"relu\"))\n",
    "    model.add(Dense(46, activation=\"softmax\"))\n",
    "    model.compile(optimizer=\"rmsprop\", loss=\"categorical_crossentropy\", metrics=[\"accuracy\"])"
   ]
  },
  {
   "cell_type": "code",
   "execution_count": 50,
   "metadata": {},
   "outputs": [
    {
     "name": "stdout",
     "output_type": "stream",
     "text": [
      "Epoch 1/20\n",
      "16/16 [==============================] - 5s 90ms/step - loss: 3.0955 - accuracy: 0.4196 - val_loss: 1.7142 - val_accuracy: 0.6410\n",
      "Epoch 2/20\n",
      "16/16 [==============================] - 1s 39ms/step - loss: 1.5067 - accuracy: 0.6886 - val_loss: 1.3466 - val_accuracy: 0.6960\n",
      "Epoch 3/20\n",
      "16/16 [==============================] - 1s 38ms/step - loss: 1.1268 - accuracy: 0.7454 - val_loss: 1.1847 - val_accuracy: 0.7360\n",
      "Epoch 4/20\n",
      "16/16 [==============================] - 1s 40ms/step - loss: 0.8912 - accuracy: 0.8022 - val_loss: 1.0712 - val_accuracy: 0.7660\n",
      "Epoch 5/20\n",
      "16/16 [==============================] - 1s 38ms/step - loss: 0.6964 - accuracy: 0.8470 - val_loss: 0.9977 - val_accuracy: 0.7880\n",
      "Epoch 6/20\n",
      "16/16 [==============================] - 1s 39ms/step - loss: 0.5568 - accuracy: 0.8809 - val_loss: 0.9538 - val_accuracy: 0.7990\n",
      "Epoch 7/20\n",
      "16/16 [==============================] - 1s 38ms/step - loss: 0.4448 - accuracy: 0.9078 - val_loss: 0.9260 - val_accuracy: 0.8080\n",
      "Epoch 8/20\n",
      "16/16 [==============================] - 1s 38ms/step - loss: 0.3564 - accuracy: 0.9286 - val_loss: 0.9316 - val_accuracy: 0.8080\n",
      "Epoch 9/20\n",
      "16/16 [==============================] - 1s 39ms/step - loss: 0.2873 - accuracy: 0.9400 - val_loss: 0.9368 - val_accuracy: 0.8080\n",
      "Epoch 10/20\n",
      "16/16 [==============================] - 1s 39ms/step - loss: 0.2457 - accuracy: 0.9439 - val_loss: 0.9289 - val_accuracy: 0.8170\n",
      "Epoch 11/20\n",
      "16/16 [==============================] - 1s 38ms/step - loss: 0.1987 - accuracy: 0.9527 - val_loss: 0.9390 - val_accuracy: 0.8110\n",
      "Epoch 12/20\n",
      "16/16 [==============================] - 1s 38ms/step - loss: 0.1692 - accuracy: 0.9573 - val_loss: 0.9846 - val_accuracy: 0.8140\n",
      "Epoch 13/20\n",
      "16/16 [==============================] - 1s 38ms/step - loss: 0.1594 - accuracy: 0.9570 - val_loss: 0.9611 - val_accuracy: 0.8080\n",
      "Epoch 14/20\n",
      "16/16 [==============================] - 1s 39ms/step - loss: 0.1450 - accuracy: 0.9579 - val_loss: 1.0104 - val_accuracy: 0.8050\n",
      "Epoch 15/20\n",
      "16/16 [==============================] - 1s 39ms/step - loss: 0.1322 - accuracy: 0.9598 - val_loss: 0.9910 - val_accuracy: 0.8140\n",
      "Epoch 16/20\n",
      "16/16 [==============================] - 1s 42ms/step - loss: 0.1183 - accuracy: 0.9573 - val_loss: 1.0381 - val_accuracy: 0.8020\n",
      "Epoch 17/20\n",
      "16/16 [==============================] - 1s 38ms/step - loss: 0.1080 - accuracy: 0.9638 - val_loss: 1.0808 - val_accuracy: 0.8040\n",
      "Epoch 18/20\n",
      "16/16 [==============================] - 1s 35ms/step - loss: 0.1080 - accuracy: 0.9610 - val_loss: 1.1282 - val_accuracy: 0.7960\n",
      "Epoch 19/20\n",
      "16/16 [==============================] - 1s 33ms/step - loss: 0.1075 - accuracy: 0.9619 - val_loss: 1.1013 - val_accuracy: 0.7930\n",
      "Epoch 20/20\n",
      "16/16 [==============================] - 1s 32ms/step - loss: 0.0983 - accuracy: 0.9646 - val_loss: 1.1095 - val_accuracy: 0.8100\n"
     ]
    }
   ],
   "source": [
    "x_val = x_train[:1000]\n",
    "partial_x_train = x_train[1000:]\n",
    "y_val = y_train[:1000]\n",
    "partial_y_train = y_train[1000:]\n",
    "\n",
    "history = model.fit(partial_x_train, partial_y_train, epochs=20, batch_size=512, validation_data=(x_val, y_val))"
   ]
  },
  {
   "cell_type": "code",
   "execution_count": 54,
   "metadata": {},
   "outputs": [
    {
     "data": {
      "text/plain": [
       "dict_keys(['loss', 'accuracy', 'val_loss', 'val_accuracy'])"
      ]
     },
     "execution_count": 54,
     "metadata": {},
     "output_type": "execute_result"
    }
   ],
   "source": [
    "history.history.keys()"
   ]
  },
  {
   "cell_type": "code",
   "execution_count": 56,
   "metadata": {},
   "outputs": [
    {
     "data": {
      "text/plain": [
       "20"
      ]
     },
     "execution_count": 56,
     "metadata": {},
     "output_type": "execute_result"
    }
   ],
   "source": [
    "len(history.history[\"loss\"])"
   ]
  },
  {
   "cell_type": "code",
   "execution_count": 61,
   "metadata": {},
   "outputs": [],
   "source": [
    "x = np.arange(len(history.history[\"loss\"]))"
   ]
  },
  {
   "cell_type": "code",
   "execution_count": 65,
   "metadata": {},
   "outputs": [
    {
     "data": {
      "image/png": "[encoded data removed]",
      "text/plain": [
       "<Figure size 432x288 with 1 Axes>"
      ]
     },
     "metadata": {
      "needs_background": "light"
     },
     "output_type": "display_data"
    }
   ],
   "source": [
    "import matplotlib.pyplot as plt\n",
    "\n",
    "plt.plot(x, history.history[\"loss\"], \"r.\")\n",
    "plt.plot(x, history.history[\"val_loss\"], \"b\")\n",
    "plt.show()"
   ]
  },
  {
   "cell_type": "code",
   "execution_count": 64,
   "metadata": {},
   "outputs": [
    {
     "data": {
      "image/png": "[encoded data removed]",
      "text/plain": [
       "<Figure size 432x288 with 1 Axes>"
      ]
     },
     "metadata": {
      "needs_background": "light"
     },
     "output_type": "display_data"
    }
   ],
   "source": [
    "plt.plot(x, history.history[\"accuracy\"], \"r.\")\n",
    "plt.plot(x, history.history[\"val_accuracy\"], \"b\")\n",
    "plt.show()"
   ]
  },
  {
   "cell_type": "code",
   "execution_count": 66,
   "metadata": {},
   "outputs": [
    {
     "name": "stdout",
     "output_type": "stream",
     "text": [
      "Epoch 1/8\n",
      "16/16 [==============================] - 2s 62ms/step - loss: 3.0855 - accuracy: 0.4139 - val_loss: 1.7225 - val_accuracy: 0.6470\n",
      "Epoch 2/8\n",
      "16/16 [==============================] - 1s 42ms/step - loss: 1.5023 - accuracy: 0.6981 - val_loss: 1.3064 - val_accuracy: 0.7080\n",
      "Epoch 3/8\n",
      "16/16 [==============================] - 1s 41ms/step - loss: 1.0490 - accuracy: 0.7751 - val_loss: 1.1253 - val_accuracy: 0.7590\n",
      "Epoch 4/8\n",
      "16/16 [==============================] - 1s 43ms/step - loss: 0.8360 - accuracy: 0.8217 - val_loss: 1.0414 - val_accuracy: 0.7570\n",
      "Epoch 5/8\n",
      "16/16 [==============================] - 1s 42ms/step - loss: 0.6622 - accuracy: 0.8545 - val_loss: 0.9563 - val_accuracy: 0.7970\n",
      "Epoch 6/8\n",
      "16/16 [==============================] - 1s 41ms/step - loss: 0.5199 - accuracy: 0.8935 - val_loss: 0.9088 - val_accuracy: 0.8090\n",
      "Epoch 7/8\n",
      "16/16 [==============================] - 1s 49ms/step - loss: 0.4138 - accuracy: 0.9159 - val_loss: 0.9071 - val_accuracy: 0.8130\n",
      "Epoch 8/8\n",
      "16/16 [==============================] - 1s 39ms/step - loss: 0.3367 - accuracy: 0.9291 - val_loss: 0.9055 - val_accuracy: 0.8110\n",
      "71/71 [==============================] - 0s 3ms/step - loss: 0.9699 - accuracy: 0.7872\n"
     ]
    }
   ],
   "source": [
    "with tf.device(\"/cpu:0\"):\n",
    "    model = Sequential()\n",
    "    model.add(Dense(64, activation=\"relu\", input_shape=(10000, )))\n",
    "    model.add(Dense(64, activation=\"relu\"))\n",
    "    model.add(Dense(46, activation=\"softmax\"))\n",
    "    model.compile(optimizer=\"rmsprop\", loss=\"categorical_crossentropy\", metrics=[\"accuracy\"])\n",
    "    \n",
    "    model.fit(partial_x_train, partial_y_train, epochs=8, batch_size=512, validation_data=(x_val, y_val))\n",
    "    results = model.evaluate(x_test, one_hot_test_labels)"
   ]
  },
  {
   "cell_type": "code",
   "execution_count": 67,
   "metadata": {},
   "outputs": [
    {
     "data": {
      "text/plain": [
       "[0.9699015617370605, 0.7871772050857544]"
      ]
     },
     "execution_count": 67,
     "metadata": {},
     "output_type": "execute_result"
    }
   ],
   "source": [
    "results"
   ]
  },
  {
   "cell_type": "code",
   "execution_count": 68,
   "metadata": {},
   "outputs": [
    {
     "data": {
      "text/plain": [
       "0.18210151380231523"
      ]
     },
     "execution_count": 68,
     "metadata": {},
     "output_type": "execute_result"
    }
   ],
   "source": [
    "import copy\n",
    "test_labels_copy = copy.copy(test_labels)\n",
    "np.random.shuffle(test_labels_copy)\n",
    "float(np.sum(np.array(test_labels) == np.array(test_labels_copy))) / len(test_labels)"
   ]
  },
  {
   "cell_type": "code",
   "execution_count": 124,
   "metadata": {},
   "outputs": [
    {
     "name": "stdout",
     "output_type": "stream",
     "text": [
      "Epoch 1/8\n",
      "16/16 [==============================] - 2s 84ms/step - loss: 2.7575 - accuracy: 0.4176 - val_loss: 1.3729 - val_accuracy: 0.6900\n",
      "Epoch 2/8\n",
      "16/16 [==============================] - 1s 59ms/step - loss: 1.1979 - accuracy: 0.7438 - val_loss: 1.1345 - val_accuracy: 0.7490\n",
      "Epoch 3/8\n",
      "16/16 [==============================] - 1s 64ms/step - loss: 0.8172 - accuracy: 0.8247 - val_loss: 1.0353 - val_accuracy: 0.7720\n",
      "Epoch 4/8\n",
      "16/16 [==============================] - 1s 62ms/step - loss: 0.5992 - accuracy: 0.8755 - val_loss: 0.9042 - val_accuracy: 0.8090\n",
      "Epoch 5/8\n",
      "16/16 [==============================] - 1s 60ms/step - loss: 0.4402 - accuracy: 0.9085 - val_loss: 0.8752 - val_accuracy: 0.8230\n",
      "Epoch 6/8\n",
      "16/16 [==============================] - 1s 63ms/step - loss: 0.3319 - accuracy: 0.9311 - val_loss: 0.8697 - val_accuracy: 0.8160\n",
      "Epoch 7/8\n",
      "16/16 [==============================] - 1s 61ms/step - loss: 0.2588 - accuracy: 0.9400 - val_loss: 0.8742 - val_accuracy: 0.8210\n",
      "Epoch 8/8\n",
      "16/16 [==============================] - 1s 58ms/step - loss: 0.2045 - accuracy: 0.9519 - val_loss: 0.8968 - val_accuracy: 0.8170\n"
     ]
    }
   ],
   "source": [
    "from tensorflow.keras.models import Sequential\n",
    "from tensorflow.keras.layers import Dense, Dropout\n",
    "import tensorflow as tf\n",
    "with tf.device(\"/cpu:0\"):\n",
    "    model = Sequential()\n",
    "    model.add(Dense(128, activation=\"relu\", input_shape=(10000, )))\n",
    "    model.add(Dense(128, activation=\"relu\"))\n",
    "    model.add(Dense(46, activation=\"softmax\"))\n",
    "    model.compile(optimizer=\"rmsprop\", loss=\"categorical_crossentropy\", metrics=[\"accuracy\"])\n",
    "    history = model.fit(partial_x_train, partial_y_train, epochs=8, batch_size=512, validation_data=(x_val, y_val))"
   ]
  },
  {
   "cell_type": "code",
   "execution_count": 125,
   "metadata": {},
   "outputs": [
    {
     "data": {
      "image/png": "[encoded data removed]",
      "text/plain": [
       "<Figure size 432x288 with 1 Axes>"
      ]
     },
     "metadata": {
      "needs_background": "light"
     },
     "output_type": "display_data"
    }
   ],
   "source": [
    "import matplotlib.pyplot as plt\n",
    "\n",
    "plt.plot(x[:8], history.history[\"loss\"], \"r.\")\n",
    "plt.plot(x[:8], history.history[\"val_loss\"], \"b\")\n",
    "plt.show()"
   ]
  },
  {
   "cell_type": "code",
   "execution_count": 126,
   "metadata": {},
   "outputs": [
    {
     "data": {
      "image/png": "[encoded data removed]",
      "text/plain": [
       "<Figure size 432x288 with 1 Axes>"
      ]
     },
     "metadata": {
      "needs_background": "light"
     },
     "output_type": "display_data"
    }
   ],
   "source": [
    "plt.plot(x[:8], history.history[\"accuracy\"], \"r.\")\n",
    "plt.plot(x[:8], history.history[\"val_accuracy\"], \"b\")\n",
    "plt.show()"
   ]
  },
  {
   "cell_type": "code",
   "execution_count": 95,
   "metadata": {},
   "outputs": [],
   "source": [
    "with tf.device(\"/cpu:0\"):\n",
    "    predictions = model.predict(x_test)"
   ]
  },
  {
   "cell_type": "code",
   "execution_count": 98,
   "metadata": {},
   "outputs": [
    {
     "data": {
      "text/plain": [
       "3"
      ]
     },
     "execution_count": 98,
     "metadata": {},
     "output_type": "execute_result"
    }
   ],
   "source": [
    "np.argmax(predictions[0])"
   ]
  },
  {
   "cell_type": "code",
   "execution_count": 102,
   "metadata": {},
   "outputs": [
    {
     "data": {
      "text/plain": [
       "array([ True,  True,  True, ...,  True,  True,  True])"
      ]
     },
     "execution_count": 102,
     "metadata": {},
     "output_type": "execute_result"
    }
   ],
   "source": [
    "train_labels == np.array(train_labels)"
   ]
  },
  {
   "cell_type": "code",
   "execution_count": 114,
   "metadata": {},
   "outputs": [
    {
     "name": "stdout",
     "output_type": "stream",
     "text": [
      "Epoch 1/8\n",
      "18/18 [==============================] - 1s 35ms/step - loss: 3.1832 - accuracy: 0.4162\n",
      "Epoch 2/8\n",
      "18/18 [==============================] - 1s 36ms/step - loss: 1.5008 - accuracy: 0.6930\n",
      "Epoch 3/8\n",
      "18/18 [==============================] - 1s 36ms/step - loss: 1.0881 - accuracy: 0.7716\n",
      "Epoch 4/8\n",
      "18/18 [==============================] - 1s 36ms/step - loss: 0.8290 - accuracy: 0.8267\n",
      "Epoch 5/8\n",
      "18/18 [==============================] - 1s 36ms/step - loss: 0.6847 - accuracy: 0.8631\n",
      "Epoch 6/8\n",
      "18/18 [==============================] - 1s 36ms/step - loss: 0.5153 - accuracy: 0.8940\n",
      "Epoch 7/8\n",
      "18/18 [==============================] - 1s 36ms/step - loss: 0.4124 - accuracy: 0.9142\n",
      "Epoch 8/8\n",
      "18/18 [==============================] - 1s 34ms/step - loss: 0.3438 - accuracy: 0.9334\n"
     ]
    }
   ],
   "source": [
    "import tensorflow as tf\n",
    "with tf.device(\"/cpu:0\"):\n",
    "    model = Sequential()\n",
    "    model.add(Dense(64, activation=\"relu\", input_shape=(10000, )))\n",
    "    model.add(Dense(64, activation=\"relu\"))\n",
    "    model.add(Dense(46, activation=\"softmax\"))\n",
    "    model.compile(optimizer=\"rmsprop\", loss=\"sparse_categorical_crossentropy\", metrics=[\"accuracy\"])\n",
    "    history = model.fit(x_train, np.array(train_labels), epochs=8, batch_size=512)"
   ]
  },
  {
   "cell_type": "code",
   "execution_count": null,
   "metadata": {},
   "outputs": [],
   "source": [
    "    "
   ]
  },
  {
   "cell_type": "code",
   "execution_count": null,
   "metadata": {},
   "outputs": [],
   "source": []
  }
 ],
 "metadata": {
  "kernelspec": {
   "display_name": "Python 3",
   "language": "python",
   "name": "python3"
  },
  "language_info": {
   "codemirror_mode": {
    "name": "ipython",
    "version": 3
   },
   "file_extension": ".py",
   "mimetype": "text/x-python",
   "name": "python",
   "nbconvert_exporter": "python",
   "pygments_lexer": "ipython3",
   "version": "3.8.5"
  }
 },
 "nbformat": 4,
 "nbformat_minor": 4
}
