{
 "cells": [
  {
   "cell_type": "code",
   "execution_count": 1,
   "metadata": {},
   "outputs": [
    {
     "name": "stdout",
     "output_type": "stream",
     "text": [
      "Model: \"vgg16\"\n",
      "_________________________________________________________________\n",
      "Layer (type)                 Output Shape              Param #   \n",
      "=================================================================\n",
      "input_1 (InputLayer)         [(None, 150, 150, 3)]     0         \n",
      "_________________________________________________________________\n",
      "block1_conv1 (Conv2D)        (None, 150, 150, 64)      1792      \n",
      "_________________________________________________________________\n",
      "block1_conv2 (Conv2D)        (None, 150, 150, 64)      36928     \n",
      "_________________________________________________________________\n",
      "block1_pool (MaxPooling2D)   (None, 75, 75, 64)        0         \n",
      "_________________________________________________________________\n",
      "block2_conv1 (Conv2D)        (None, 75, 75, 128)       73856     \n",
      "_________________________________________________________________\n",
      "block2_conv2 (Conv2D)        (None, 75, 75, 128)       147584    \n",
      "_________________________________________________________________\n",
      "block2_pool (MaxPooling2D)   (None, 37, 37, 128)       0         \n",
      "_________________________________________________________________\n",
      "block3_conv1 (Conv2D)        (None, 37, 37, 256)       295168    \n",
      "_________________________________________________________________\n",
      "block3_conv2 (Conv2D)        (None, 37, 37, 256)       590080    \n",
      "_________________________________________________________________\n",
      "block3_conv3 (Conv2D)        (None, 37, 37, 256)       590080    \n",
      "_________________________________________________________________\n",
      "block3_pool (MaxPooling2D)   (None, 18, 18, 256)       0         \n",
      "_________________________________________________________________\n",
      "block4_conv1 (Conv2D)        (None, 18, 18, 512)       1180160   \n",
      "_________________________________________________________________\n",
      "block4_conv2 (Conv2D)        (None, 18, 18, 512)       2359808   \n",
      "_________________________________________________________________\n",
      "block4_conv3 (Conv2D)        (None, 18, 18, 512)       2359808   \n",
      "_________________________________________________________________\n",
      "block4_pool (MaxPooling2D)   (None, 9, 9, 512)         0         \n",
      "_________________________________________________________________\n",
      "block5_conv1 (Conv2D)        (None, 9, 9, 512)         2359808   \n",
      "_________________________________________________________________\n",
      "block5_conv2 (Conv2D)        (None, 9, 9, 512)         2359808   \n",
      "_________________________________________________________________\n",
      "block5_conv3 (Conv2D)        (None, 9, 9, 512)         2359808   \n",
      "_________________________________________________________________\n",
      "block5_pool (MaxPooling2D)   (None, 4, 4, 512)         0         \n",
      "=================================================================\n",
      "Total params: 14,714,688\n",
      "Trainable params: 14,714,688\n",
      "Non-trainable params: 0\n",
      "_________________________________________________________________\n"
     ]
    }
   ],
   "source": [
    "from tensorflow.keras.applications import VGG16\n",
    "import tensorflow as tf\n",
    "with tf.device(\"/cpu:0\"):\n",
    "    conv_base = VGG16(weights=\"imagenet\", include_top=False, input_shape=(150, 150, 3))\n",
    "    conv_base.summary()"
   ]
  },
  {
   "cell_type": "code",
   "execution_count": 2,
   "metadata": {},
   "outputs": [
    {
     "name": "stdout",
     "output_type": "stream",
     "text": [
      "Found 2000 images belonging to 2 classes.\n",
      "Found 1000 images belonging to 2 classes.\n",
      "Found 1000 images belonging to 2 classes.\n"
     ]
    }
   ],
   "source": [
    "import os\n",
    "import numpy as np\n",
    "from tensorflow.keras.preprocessing.image import ImageDataGenerator\n",
    "\n",
    "original_dataset_dir = \"C:/Users/galin/Downloads/Python/kagglecatsanddogs_3367a/PetImages\"\n",
    "base_dir = \"C:/Users/galin/Downloads/Python/cats_and_dogs_small\"\n",
    "\n",
    "train_dir = os.path.join(base_dir, \"train\")\n",
    "validation_dir = os.path.join(base_dir, \"validation\")\n",
    "test_dir = os.path.join(base_dir, \"test\")\n",
    "\n",
    "with tf.device(\"/cpu:0\"):\n",
    "\n",
    "    datagen = ImageDataGenerator(rescale=1./255)\n",
    "    batch_size=20\n",
    "\n",
    "    def extract_features(directory, sample_count):\n",
    "        features = np.zeros(shape=(sample_count, 4, 4, 512))\n",
    "        labels = np.zeros(shape=(sample_count))\n",
    "        generator = datagen.flow_from_directory(directory, target_size=(150, 150), batch_size=batch_size, class_mode=\"binary\")\n",
    "        i = 0\n",
    "        for input_batch, labels_batch in generator:\n",
    "            features_batch = conv_base.predict(input_batch)\n",
    "            features[i * batch_size : (i + 1) * batch_size] = features_batch\n",
    "            labels[i * batch_size : (i + 1) * batch_size] = labels_batch\n",
    "            i += 1\n",
    "            if i * batch_size >= sample_count:\n",
    "                break\n",
    "        return features, labels\n",
    "\n",
    "    train_features, train_labels = extract_features(train_dir, 2000)\n",
    "    validation_features, validation_labels = extract_features(validation_dir, 1000)\n",
    "    test_features, test_labels = extract_features(test_dir, 1000)\n",
    "\n",
    "    train_features = np.reshape(train_features, (2000, 4 * 4 * 512))\n",
    "    validation_features = np.reshape(validation_features, (1000, 4 * 4 * 512))\n",
    "    test_features = np.reshape(test_features, (1000, 4 * 4 * 512))"
   ]
  },
  {
   "cell_type": "code",
   "execution_count": 3,
   "metadata": {},
   "outputs": [
    {
     "name": "stdout",
     "output_type": "stream",
     "text": [
      "Epoch 1/30\n",
      "100/100 [==============================] - 5s 44ms/step - loss: 0.6765 - acc: 0.5932 - val_loss: 0.4410 - val_acc: 0.8490\n",
      "Epoch 2/30\n",
      "100/100 [==============================] - 3s 31ms/step - loss: 0.4458 - acc: 0.7978 - val_loss: 0.3649 - val_acc: 0.8490\n",
      "Epoch 3/30\n",
      "100/100 [==============================] - 3s 32ms/step - loss: 0.3642 - acc: 0.8426 - val_loss: 0.3249 - val_acc: 0.8720\n",
      "Epoch 4/30\n",
      "100/100 [==============================] - 3s 33ms/step - loss: 0.3271 - acc: 0.8575 - val_loss: 0.3067 - val_acc: 0.8750\n",
      "Epoch 5/30\n",
      "100/100 [==============================] - 3s 34ms/step - loss: 0.2992 - acc: 0.8744 - val_loss: 0.2806 - val_acc: 0.8920\n",
      "Epoch 6/30\n",
      "100/100 [==============================] - 4s 36ms/step - loss: 0.2563 - acc: 0.8979 - val_loss: 0.2697 - val_acc: 0.9000\n",
      "Epoch 7/30\n",
      "100/100 [==============================] - 3s 35ms/step - loss: 0.2593 - acc: 0.8990 - val_loss: 0.2611 - val_acc: 0.8940\n",
      "Epoch 8/30\n",
      "100/100 [==============================] - 3s 33ms/step - loss: 0.2345 - acc: 0.9145 - val_loss: 0.2547 - val_acc: 0.8940\n",
      "Epoch 9/30\n",
      "100/100 [==============================] - 3s 32ms/step - loss: 0.2120 - acc: 0.9183 - val_loss: 0.2560 - val_acc: 0.8920\n",
      "Epoch 10/30\n",
      "100/100 [==============================] - 3s 32ms/step - loss: 0.2051 - acc: 0.9190 - val_loss: 0.2478 - val_acc: 0.9010\n",
      "Epoch 11/30\n",
      "100/100 [==============================] - 3s 32ms/step - loss: 0.1730 - acc: 0.9393 - val_loss: 0.2436 - val_acc: 0.8990\n",
      "Epoch 12/30\n",
      "100/100 [==============================] - 3s 34ms/step - loss: 0.1795 - acc: 0.9374 - val_loss: 0.2398 - val_acc: 0.8990\n",
      "Epoch 13/30\n",
      "100/100 [==============================] - 3s 33ms/step - loss: 0.1560 - acc: 0.9442 - val_loss: 0.2435 - val_acc: 0.9040\n",
      "Epoch 14/30\n",
      "100/100 [==============================] - 3s 33ms/step - loss: 0.1646 - acc: 0.9427 - val_loss: 0.2385 - val_acc: 0.9040\n",
      "Epoch 15/30\n",
      "100/100 [==============================] - 3s 33ms/step - loss: 0.1639 - acc: 0.9371 - val_loss: 0.2433 - val_acc: 0.9030\n",
      "Epoch 16/30\n",
      "100/100 [==============================] - 4s 36ms/step - loss: 0.1356 - acc: 0.9523 - val_loss: 0.2416 - val_acc: 0.9060\n",
      "Epoch 17/30\n",
      "100/100 [==============================] - 4s 38ms/step - loss: 0.1393 - acc: 0.9532 - val_loss: 0.2413 - val_acc: 0.9040\n",
      "Epoch 18/30\n",
      "100/100 [==============================] - 4s 38ms/step - loss: 0.1368 - acc: 0.9549 - val_loss: 0.2389 - val_acc: 0.9070\n",
      "Epoch 19/30\n",
      "100/100 [==============================] - 3s 35ms/step - loss: 0.1366 - acc: 0.9478 - val_loss: 0.2414 - val_acc: 0.9060\n",
      "Epoch 20/30\n",
      "100/100 [==============================] - 3s 34ms/step - loss: 0.1258 - acc: 0.9532 - val_loss: 0.2360 - val_acc: 0.9060\n",
      "Epoch 21/30\n",
      "100/100 [==============================] - 4s 38ms/step - loss: 0.1240 - acc: 0.9633 - val_loss: 0.2345 - val_acc: 0.9100\n",
      "Epoch 22/30\n",
      "100/100 [==============================] - 4s 36ms/step - loss: 0.1110 - acc: 0.9632 - val_loss: 0.2377 - val_acc: 0.9080\n",
      "Epoch 23/30\n",
      "100/100 [==============================] - 4s 36ms/step - loss: 0.1219 - acc: 0.9571 - val_loss: 0.2354 - val_acc: 0.9090\n",
      "Epoch 24/30\n",
      "100/100 [==============================] - 4s 36ms/step - loss: 0.1045 - acc: 0.9611 - val_loss: 0.2329 - val_acc: 0.9050\n",
      "Epoch 25/30\n",
      "100/100 [==============================] - 4s 36ms/step - loss: 0.1011 - acc: 0.9696 - val_loss: 0.2344 - val_acc: 0.9030\n",
      "Epoch 26/30\n",
      "100/100 [==============================] - 4s 39ms/step - loss: 0.0938 - acc: 0.9744 - val_loss: 0.2365 - val_acc: 0.9020\n",
      "Epoch 27/30\n",
      "100/100 [==============================] - 4s 39ms/step - loss: 0.0877 - acc: 0.9737 - val_loss: 0.2362 - val_acc: 0.9030\n",
      "Epoch 28/30\n",
      "100/100 [==============================] - 4s 38ms/step - loss: 0.0936 - acc: 0.9696 - val_loss: 0.2376 - val_acc: 0.9030\n",
      "Epoch 29/30\n",
      "100/100 [==============================] - 3s 35ms/step - loss: 0.0866 - acc: 0.9792 - val_loss: 0.2417 - val_acc: 0.9060\n",
      "Epoch 30/30\n",
      "100/100 [==============================] - 3s 33ms/step - loss: 0.0789 - acc: 0.9775 - val_loss: 0.2388 - val_acc: 0.9040\n"
     ]
    }
   ],
   "source": [
    "from tensorflow.keras.models import Sequential\n",
    "from tensorflow.keras.layers import Dense, Dropout\n",
    "from tensorflow.keras.optimizers import RMSprop\n",
    "\n",
    "with tf.device(\"/cpu:0\"):\n",
    "    model = Sequential()\n",
    "    model.add(Dense(256, activation=\"relu\", input_dim=4*4*512))\n",
    "    model.add(Dropout(0.5))\n",
    "    model.add(Dense(1, activation=\"sigmoid\"))\n",
    "    \n",
    "    model.compile(optimizer=RMSprop(lr=2e-5), loss=\"binary_crossentropy\", metrics=[\"acc\"])\n",
    "    \n",
    "    history = model.fit(train_features, train_labels, epochs=30, batch_size=20, validation_data=(validation_features, validation_labels))"
   ]
  },
  {
   "cell_type": "code",
   "execution_count": 4,
   "metadata": {},
   "outputs": [
    {
     "data": {
      "image/png": "[encoded data removed]",
      "text/plain": [
       "<Figure size 432x288 with 1 Axes>"
      ]
     },
     "metadata": {
      "needs_background": "light"
     },
     "output_type": "display_data"
    },
    {
     "data": {
      "image/png": "[encoded data removed]",
      "text/plain": [
       "<Figure size 432x288 with 1 Axes>"
      ]
     },
     "metadata": {
      "needs_background": "light"
     },
     "output_type": "display_data"
    }
   ],
   "source": [
    "import matplotlib.pyplot as plt\n",
    "\n",
    "acc = history.history[\"acc\"]\n",
    "val_acc = history.history[\"val_acc\"]\n",
    "loss = history.history[\"loss\"]\n",
    "val_loss = history.history[\"val_loss\"]\n",
    "\n",
    "epochs = range(len(acc))\n",
    "\n",
    "plt.plot(epochs, acc, \"bo\", label=\"training acc\")\n",
    "plt.plot(epochs, val_acc, \"b\", label=\"validation acc\")\n",
    "plt.legend()\n",
    "plt.figure()\n",
    "\n",
    "plt.plot(epochs, loss, \"bo\", label=\"training loss\")\n",
    "plt.plot(epochs, val_loss, \"b\", label=\"validation loss\")\n",
    "plt.legend()\n",
    "\n",
    "plt.show()"
   ]
  },
  {
   "cell_type": "code",
   "execution_count": 1,
   "metadata": {},
   "outputs": [
    {
     "name": "stdout",
     "output_type": "stream",
     "text": [
      "Model: \"vgg16\"\n",
      "_________________________________________________________________\n",
      "Layer (type)                 Output Shape              Param #   \n",
      "=================================================================\n",
      "input_1 (InputLayer)         [(None, 150, 150, 3)]     0         \n",
      "_________________________________________________________________\n",
      "block1_conv1 (Conv2D)        (None, 150, 150, 64)      1792      \n",
      "_________________________________________________________________\n",
      "block1_conv2 (Conv2D)        (None, 150, 150, 64)      36928     \n",
      "_________________________________________________________________\n",
      "block1_pool (MaxPooling2D)   (None, 75, 75, 64)        0         \n",
      "_________________________________________________________________\n",
      "block2_conv1 (Conv2D)        (None, 75, 75, 128)       73856     \n",
      "_________________________________________________________________\n",
      "block2_conv2 (Conv2D)        (None, 75, 75, 128)       147584    \n",
      "_________________________________________________________________\n",
      "block2_pool (MaxPooling2D)   (None, 37, 37, 128)       0         \n",
      "_________________________________________________________________\n",
      "block3_conv1 (Conv2D)        (None, 37, 37, 256)       295168    \n",
      "_________________________________________________________________\n",
      "block3_conv2 (Conv2D)        (None, 37, 37, 256)       590080    \n",
      "_________________________________________________________________\n",
      "block3_conv3 (Conv2D)        (None, 37, 37, 256)       590080    \n",
      "_________________________________________________________________\n",
      "block3_pool (MaxPooling2D)   (None, 18, 18, 256)       0         \n",
      "_________________________________________________________________\n",
      "block4_conv1 (Conv2D)        (None, 18, 18, 512)       1180160   \n",
      "_________________________________________________________________\n",
      "block4_conv2 (Conv2D)        (None, 18, 18, 512)       2359808   \n",
      "_________________________________________________________________\n",
      "block4_conv3 (Conv2D)        (None, 18, 18, 512)       2359808   \n",
      "_________________________________________________________________\n",
      "block4_pool (MaxPooling2D)   (None, 9, 9, 512)         0         \n",
      "_________________________________________________________________\n",
      "block5_conv1 (Conv2D)        (None, 9, 9, 512)         2359808   \n",
      "_________________________________________________________________\n",
      "block5_conv2 (Conv2D)        (None, 9, 9, 512)         2359808   \n",
      "_________________________________________________________________\n",
      "block5_conv3 (Conv2D)        (None, 9, 9, 512)         2359808   \n",
      "_________________________________________________________________\n",
      "block5_pool (MaxPooling2D)   (None, 4, 4, 512)         0         \n",
      "=================================================================\n",
      "Total params: 14,714,688\n",
      "Trainable params: 14,714,688\n",
      "Non-trainable params: 0\n",
      "_________________________________________________________________\n"
     ]
    }
   ],
   "source": [
    "from tensorflow.keras.applications import VGG16\n",
    "import tensorflow as tf\n",
    "with tf.device(\"/cpu:0\"):\n",
    "    conv_base = VGG16(weights=\"imagenet\", include_top=False, input_shape=(150, 150, 3))\n",
    "    conv_base.summary()"
   ]
  },
  {
   "cell_type": "code",
   "execution_count": 4,
   "metadata": {},
   "outputs": [
    {
     "name": "stdout",
     "output_type": "stream",
     "text": [
      "Model: \"sequential_2\"\n",
      "_________________________________________________________________\n",
      "Layer (type)                 Output Shape              Param #   \n",
      "=================================================================\n",
      "vgg16 (Functional)           (None, 4, 4, 512)         14714688  \n",
      "_________________________________________________________________\n",
      "flatten_2 (Flatten)          (None, 8192)              0         \n",
      "_________________________________________________________________\n",
      "dense_3 (Dense)              (None, 256)               2097408   \n",
      "_________________________________________________________________\n",
      "dense_4 (Dense)              (None, 1)                 257       \n",
      "=================================================================\n",
      "Total params: 16,812,353\n",
      "Trainable params: 16,812,353\n",
      "Non-trainable params: 0\n",
      "_________________________________________________________________\n"
     ]
    }
   ],
   "source": [
    "from tensorflow.keras.models import Sequential\n",
    "from tensorflow.keras.layers import Dense, Flatten\n",
    "\n",
    "with tf.device(\"/cpu:0\"):\n",
    "    model = Sequential()\n",
    "    model.add(conv_base)\n",
    "    model.add(Flatten())\n",
    "    model.add(Dense(256, activation=\"relu\"))\n",
    "    model.add(Dense(1, activation=\"sigmoid\"))\n",
    "    model.summary()"
   ]
  },
  {
   "cell_type": "code",
   "execution_count": 5,
   "metadata": {},
   "outputs": [
    {
     "name": "stdout",
     "output_type": "stream",
     "text": [
      "30\n",
      "4\n"
     ]
    }
   ],
   "source": [
    "print(len(model.trainable_weights))\n",
    "conv_base.trainable = False\n",
    "print(len(model.trainable_weights))"
   ]
  },
  {
   "cell_type": "code",
   "execution_count": null,
   "metadata": {},
   "outputs": [],
   "source": [
    "from tensorflow.keras.preprocessing.image import ImageDataGenerator\n",
    "with tf.device(\"/cpu:0\"):\n",
    "    train_datagen = ImageDataGenerator(\n",
    "        rescale=1./255, rotation_range=40, width_shift_range=0.2, height_shift_range=0.2,\n",
    "        shear_range=0.2, zoom_range=0.2, horizontal_flip=True, fill_mode=\"nearest\"\n",
    "    )\n",
    "    test_datagen = ImageDataGenerator(rescale=1./255)\n",
    "\n",
    "    train_generator = train_datagen.flow_from_directory(\n",
    "        train_dir, target_size=(150, 150), batch_size=20, class_mode=\"binary\"\n",
    "    )\n",
    "    validation_generator = test_datagen.flow_from_directory(\n",
    "        validation_dir, target_size=(150, 150), batch_size=20, class_mode=\"binary\"\n",
    "    )\n",
    "    \n",
    "    model.compile(loss=\"binary_crossentropy\", optimizer=RMSprop, metrics=[\"acc\"])\n",
    "    history = model.fit_generator(train_generator, steps_per_epoch=100, epochs=30, validation_data=validation_generator, validation_steps=50, verbose=2)\n"
   ]
  },
  {
   "cell_type": "code",
   "execution_count": null,
   "metadata": {},
   "outputs": [],
   "source": [
    "conv_base.trainable = True\n",
    "set_trainable = False\n",
    "for layer in conv_base.layers:\n",
    "    if layer.name == \"block5_conv1\":\n",
    "        set_trainable = True\n",
    "    if set_trainable == True:\n",
    "        layer.trainable = True\n",
    "    else:\n",
    "        layer.trainable = False"
   ]
  },
  {
   "cell_type": "code",
   "execution_count": null,
   "metadata": {},
   "outputs": [],
   "source": [
    "file size over"
   ]
  }
 ],
 "metadata": {
  "kernelspec": {
   "display_name": "Python 3",
   "language": "python",
   "name": "python3"
  },
  "language_info": {
   "codemirror_mode": {
    "name": "ipython",
    "version": 3
   },
   "file_extension": ".py",
   "mimetype": "text/x-python",
   "name": "python",
   "nbconvert_exporter": "python",
   "pygments_lexer": "ipython3",
   "version": "3.8.5"
  }
 },
 "nbformat": 4,
 "nbformat_minor": 4
}
