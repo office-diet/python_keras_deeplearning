{
 "cells": [
  {
   "cell_type": "code",
   "execution_count": 3,
   "metadata": {},
   "outputs": [],
   "source": [
    "chr = \"あいうえおかきくせこさしすせそたちつてとなにぬねのはひふへほまみむめもやゆよらりるれろわをん。、！？\""
   ]
  },
  {
   "cell_type": "code",
   "execution_count": 22,
   "metadata": {},
   "outputs": [
    {
     "data": {
      "text/plain": [
       "'へお。もおらりんためめつらきぬたはれとに、おろぬほなろひめみさまをせゆ？ろたそこきかよ、とてあせいせなりさ！ふまはもしりもももせんゆこしおりかわあぬれ！めれさやすぬこる。の？んめほふたぬほい？。、すす？ぬのにんてそへく。きよたぬぬたゆせうはゆるしぬかしほい'"
      ]
     },
     "execution_count": 22,
     "metadata": {},
     "output_type": "execute_result"
    }
   ],
   "source": [
    "import random\n",
    "\n",
    "str = \"\"\n",
    "str_len = random.randint(10, 140)\n",
    "\n",
    "for _ in range(str_len):\n",
    "    index = random.randint(0, len(chr)-1)\n",
    "    str += chr[index]\n",
    "str"
   ]
  },
  {
   "cell_type": "code",
   "execution_count": 3,
   "metadata": {},
   "outputs": [],
   "source": [
    "import numpy as np\n",
    "\n",
    "def reweight_distribution(original_distribution, temperature=0.5):\n",
    "    distribution = np.log(original_distribution) / temperature\n",
    "    distribution = np.exp(dstribution)\n",
    "    return distribution / np.sum(distribution)"
   ]
  },
  {
   "cell_type": "code",
   "execution_count": 4,
   "metadata": {},
   "outputs": [
    {
     "name": "stdout",
     "output_type": "stream",
     "text": [
      "600893\n"
     ]
    }
   ],
   "source": [
    "import tensorflow.keras as keras\n",
    "import numpy as np\n",
    "\n",
    "import tensorflow as tf\n",
    "with tf.device(\"/cpu:0\"):\n",
    "    path = keras.utils.get_file(\"nietzsche.txt\", origin=\"https://s3.amazonaws.com/text-datasets/nietzsche.txt\")\n",
    "    text = open(path, encoding=\"utf-8\").read().lower()\n",
    "    print(len(text))"
   ]
  },
  {
   "cell_type": "code",
   "execution_count": 5,
   "metadata": {},
   "outputs": [
    {
     "name": "stdout",
     "output_type": "stream",
     "text": [
      "number of sentences :  200278\n",
      "unique characters :  57\n",
      "vectorization...\n"
     ]
    }
   ],
   "source": [
    "maxlen = 60\n",
    "step = 3\n",
    "sentences = []\n",
    "next_chars = []\n",
    "\n",
    "for i in range(0, len(text) - maxlen, step):\n",
    "    sentences.append(text[i: i + maxlen])\n",
    "    next_chars.append(text[i + maxlen])\n",
    "print(\"number of sentences : \", len(sentences))\n",
    "\n",
    "chars = sorted(list(set(text)))\n",
    "print(\"unique characters : \", len(chars))\n",
    "\n",
    "char_indices = dict((char, chars.index(char)) for char in chars)\n",
    "\n",
    "print(\"vectorization...\")\n",
    "\n",
    "x = np.zeros((len(sentences), maxlen, len(chars)), dtype=np.bool)\n",
    "y = np.zeros((len(sentences), len(chars)), dtype=np.bool)\n",
    "for i, sentence in enumerate(sentences):\n",
    "    for t, char in enumerate(sentence):\n",
    "        x[i, t, char_indices[char]] = 1\n",
    "    y[i, char_indices[next_chars[i]]] = 1"
   ]
  },
  {
   "cell_type": "code",
   "execution_count": 6,
   "metadata": {},
   "outputs": [],
   "source": [
    "from tensorflow.keras.models import Sequential\n",
    "from tensorflow.keras.layers import LSTM, Dense\n",
    "from tensorflow.keras.optimizers import RMSprop\n",
    "import tensorflow as tf\n",
    "\n",
    "with tf.device(\"/cpu:0\"):\n",
    "    model = Sequential()\n",
    "    model.add(LSTM(128, input_shape=(maxlen, len(chars))))\n",
    "    model.add(Dense(len(chars), activation=\"softmax\"))\n",
    "    optimizer = RMSprop(lr=0.01)\n",
    "    model.compile(loss=\"categorical_crossentropy\", optimizer=optimizer)"
   ]
  },
  {
   "cell_type": "code",
   "execution_count": 7,
   "metadata": {},
   "outputs": [],
   "source": [
    "def sample(preds, temperature=1.0):\n",
    "    preds = np.asarray(preds).astype(\"float64\")\n",
    "    preds = np.log(preds) / temperature\n",
    "    exp_preds = np.exp(preds)\n",
    "    preds = exp_preds / np.sum(exp_preds)\n",
    "    probas = np.random.multinomial(1, preds, 1)\n",
    "    return np.argmax(probas)"
   ]
  },
  {
   "cell_type": "code",
   "execution_count": null,
   "metadata": {},
   "outputs": [
    {
     "name": "stdout",
     "output_type": "stream",
     "text": [
      "epoch :  1\n",
      "1565/1565 [==============================] - 296s 189ms/step - loss: 1.5258\n",
      "vil habits in reaching conclusions.=--the most usual erroneo\n",
      "0.2\n",
      "vil habits in reaching conclusions.=--the most usual erroneous and soul and consequence of the consequence and the consequence of the consequence and the consequence in the exceptions of the stands and consequence in the fact the consequence and the state and desires the stands and the more and the contemnce in the consequence and superious and desires and as we may be a different and disconternally and more of the superious and superious and secies and de0.5\n",
      "ly and more of the superious and superious and secies and definity and with the world the falsity and gods mistake in the case, as an infentions, the supsority to such one of the moral more the consequence of among and discontering and also, and something for the false and in the freems, and in the present of the christianity in a the man has would be self-deneed in the fore of the metically well to like the new and of a distunce and consupersting to i man1.0\n",
      "to like the new and of a distunce and consupersting to i man, who ever accausit. for instance, emphise: \"--trithless, whoe holdness his\n",
      "sistle clistation: like arty:-in in their sweokous, and which it well more of the bewaot at all genedes his humbing pared the ristrormpty towa\n",
      "knomd\" the coultre might attedain greate exympanded called--and \"unconouts, conscioushed, has have foor meceintly coetihidity she din\n",
      "atalr--and for himselves to opposing in artaris1.2\n",
      "dity she din\n",
      "atalr--and for himselves to opposing in artarisal drtways: we new va=utt unperses and oinly acks of woman, irdemines them\n",
      "sy.\n",
      "\n",
      "solity ssets\n",
      "musics,\n",
      "the innutional, and taking pirest in the mbutterest nature any, and who awhy respitly, if not a\n",
      "curreriasitious person\" mank and the generesions of divine in py al it one wourser ofeowings--their. it is inclass peypporave court fineasing limg, and neter upre much sely,\n",
      "world of suffersivitionsciwadepoch :  2\n",
      "1565/1565 [==============================] - 301s 193ms/step - loss: 1.4802\n",
      "l validity. conversely, the\n",
      "proposition would run: a thing[1\n",
      "0.2\n",
      "l validity. conversely, the\n",
      "proposition would run: a thing[1his the soul and the same to the same to the restrifes to the same to a contined to the self-god of the same to the same to the consequently and despisity of the master of the soul and the sentiment and desire to the same to the same to the sense of the man and at the said and the sense of the sense of the man is to the will of the same to the sense of the same to the same to a case and despect to0.5\n",
      "o the sense of the same to the same to a case and despect to soull as the belief which will be after sense which it is interesting the continian to the fact, indeed, the deceived the pregained of well\n",
      "have tenture and created in the own self for the destruction of the belief it is all a man is to the delication of the states, now-displacing that would period of the experience and despitation is belief with the entire of the profounder and despect to the ex1.0\n",
      "lief with the entire of the profounder and despect to the exchitureness to the chrours of dones man scencie, inevigat on perhave , tye feels in the vecyxtration  shood\n",
      "desilatif, frendicy and that only bestunt! the term, the created a personary, that it cantengresling\n",
      "te men stinder,\n",
      "on belonglined that as it is our countly as amissious\n",
      "the repution good, adtend of its along sufter and\n",
      "oun envertuldation witherty sascification is sell to the mattere for ar1.2\n",
      "ldation witherty sascification is sell to the mattere for artly of its useople.\n",
      "\n",
      "1.\n",
      "\n",
      "giu tolo-erak,he--a discoven lattfundings ureksesing is to preptateev, ovis a praise?\n",
      "and admpering to prevcasuus shears of unaxirate afforthingly, a clinally serviance, itself; is pattingly also be\n",
      "throthed it, as a coute if fashity: as which it pridony\n",
      "preasual constuonal that pbeloodical form-wistes: aneobild, at so kife of will cature afterlys pandious peruled; sha: itepoch :  3\n",
      "1565/1565 [==============================] - 296s 189ms/step - loss: 1.4489\n",
      "to conceal\n",
      "under passionate grimaces what he knew about hims\n",
      "0.2\n",
      "to conceal\n",
      "under passionate grimaces what he knew about himself in the still the still and the strange and the still a still and the still assible and a still and still and still and the still and the strong and the sense of the still presence in the still respons the sense of the strange and sense of the consequence and the strong the distinction of the still responsition of the fairent of the strange and an astinition of the sense and the super-it is a s0.5\n",
      "range and an astinition of the sense and the super-it is a stringe of a strong of such an age to the super-in feeling and and the reason of the deeply in the future example, and in the sense of the constitute and difference which a propositions, the fairent which a\n",
      "still\n",
      "the false in the day of the restreal out of the still necessity of the artistic to it is a statthical lighten and make a souls\n",
      "in readily responsition and the strange the earth, the new st1.0\n",
      "n readily responsition and the strange the earth, the new strength -the rights raged,\n",
      "as unequally, thoughouthment of its own element.\n",
      "\n",
      "\n",
      "1el\n",
      "=the valuatuy as there is we foinward with orther\n",
      "of \"sn-laps lexian and sostived,\n",
      "that such gradur swe make hrage wartifeans to term-natimises; the triqus althual as the every,\n",
      "     elontteh it such astetually fravechither our satides: and alcorart for jesuity of that which themselves and sentimentileys the ssee is a1.2\n",
      "ty of that which themselves and sentimentileys the ssee is acpieing, there worst, slivened, laabs actian, he sade inparie usuasity:--on is no consust tedsent: in fastogical haved thranifials attitive's. existingial rages of whive lived ssets him honve, ethive is weaknively, a proved.-.=--time worth\n",
      "and acchoanct is deach) attuist)y, many net ourse in freechs and finundness worth, if faw entirement applatence and inimisic us; that slive-is ratathly, as orgaepoch :  4\n",
      "1565/1565 [==============================] - 309s 198ms/step - loss: 1.4260\n",
      "ker to distraction is the knowledge that the illogical is ne\n",
      "0.2\n",
      "ker to distraction is the knowledge that the illogical is necessito-is the sense of the sense of the sense of the moral personal prediced the sense of the moral and such a sense of the moral promine the most moral promined to the sense of the same still the man of the expression of the moral presenter of the most man and souls and such a such a sense of the moral problem of the same still the sense of the moral and sense of the same to the sense of the mos0.5\n",
      "e of the moral and sense of the same to the sense of the most dealing of the high merely\n",
      "and through here earth be allowed be not also domation of such the element the also arost and man is not one of the desires and forth of no would have not some some distance, and properation of the past of a all the morality and persisparism of the same solis of the soul is not to the most persinable the sangard, though himself the most false and one and purpose person1.0\n",
      "rd, though himself the most false and one and purpose personces thing precertion who is\n",
      "and phrisive futegiad in here of who shore have sucagudes, and he what forthing\n",
      "lowing the verecticists around of once sort of this quity of conpried it impressed for belien\n",
      "nothing i some spiritual conduct, fings without number best natures, for in-is one in should be slife.\n",
      "  faireter oncery\n",
      "who had the general victorions condect every cortained aest religionvful thou1.2\n",
      "al victorions condect every cortained aest religionvful thought,\n",
      "marty underkagped\n",
      "of gveses,\n",
      "would be u-duch more\n",
      "with\n",
      "as\n",
      "hard\n",
      "that we say to\n",
      "recognized prenarnty ewhagicable, from \"this!\n",
      " fletable asschible at viution:\n",
      "whe seaks not ode\", well the\n",
      "dearth le guar sensible prceamev; to garnt. where everys give greater\n",
      "loncan divaised is muthfmronagine, growone\n",
      "are numbless ecdeman develople and\n",
      "smore of osknation:\n",
      "\"op naked not)y\n",
      "prediced for which moraly epoch :  5\n",
      "1187/1565 [=====================>........] - ETA: 1:13 - loss: 1.4056"
     ]
    }
   ],
   "source": [
    "import random\n",
    "import sys\n",
    "\n",
    "with tf.device(\"/cpu:0\"):\n",
    "    for epoch in range(1, 60):\n",
    "        print(\"epoch : \", epoch)\n",
    "        model.fit(x, y, batch_size=128, epochs=1)\n",
    "        \n",
    "        start_index = random.randint(0, len(text) - maxlen - 1)\n",
    "        generated_text = text[start_index : start_index + maxlen]\n",
    "        print(generated_text)\n",
    "        \n",
    "        for temperature in [0.2, 0.5, 1.0, 1.2]:\n",
    "            print(temperature)\n",
    "            sys.stdout.write(generated_text)\n",
    "            \n",
    "            for i in range(400):\n",
    "                sampled = np.zeros((1, maxlen, len(chars)))\n",
    "                \n",
    "                for t, char in enumerate(generated_text):\n",
    "                    sampled[0, t, char_indices[char]] = 1\n",
    "                \n",
    "                preds = model.predict(sampled, verbose=0)[0]\n",
    "                next_index = sample(preds, temperature)\n",
    "                next_char = chars[next_index]\n",
    "                \n",
    "                generated_text += next_char\n",
    "                generated_text = generated_text[1:]\n",
    "                \n",
    "                sys.stdout.write(next_char)\n",
    "                sys.stdout.flush()\n"
   ]
  },
  {
   "cell_type": "code",
   "execution_count": null,
   "metadata": {},
   "outputs": [],
   "source": []
  }
 ],
 "metadata": {
  "kernelspec": {
   "display_name": "Python 3",
   "language": "python",
   "name": "python3"
  },
  "language_info": {
   "codemirror_mode": {
    "name": "ipython",
    "version": 3
   },
   "file_extension": ".py",
   "mimetype": "text/x-python",
   "name": "python",
   "nbconvert_exporter": "python",
   "pygments_lexer": "ipython3",
   "version": "3.8.5"
  }
 },
 "nbformat": 4,
 "nbformat_minor": 4
}
